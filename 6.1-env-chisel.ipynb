{
 "cells": [
  {
   "attachments": {
    "image.png": {
     "image/png": "[encoded data removed]"
    }
   },
   "cell_type": "markdown",
   "metadata": {},
   "source": [
    "![image.png](attachment:image.png)"
   ]
  },
  {
   "cell_type": "markdown",
   "metadata": {},
   "source": [
    "## Chisel Running Enviroments\n"
   ]
  },
  {
   "cell_type": "code",
   "execution_count": null,
   "metadata": {},
   "outputs": [],
   "source": [
    "import $ivy.`edu.berkeley.cs::chisel3:3.1.0` \n",
    "import $ivy.`edu.berkeley.cs::chisel-iotesters:1.2.0`     "
   ]
  },
  {
   "cell_type": "code",
   "execution_count": null,
   "metadata": {},
   "outputs": [],
   "source": [
    "import chisel3._\n",
    "import chisel3.util._\n",
    "import chisel3.iotesters.{ChiselFlatSpec, Driver, PeekPokeTester}"
   ]
  },
  {
   "cell_type": "markdown",
   "metadata": {},
   "source": [
    "### Utils Wrapper Function for Jupyter\n",
    "- getVerilog\n",
    "- getFirrtl\n",
    "- compileFIRRTL\n",
    "- stringifyAST"
   ]
  },
  {
   "cell_type": "code",
   "execution_count": null,
   "metadata": {},
   "outputs": [],
   "source": [
    "// Convenience function to invoke Chisel and grab emitted Verilog.\n",
    "def getVerilog(dut: => chisel3.core.UserModule): String = {\n",
    "  import firrtl._\n",
    "  return chisel3.Driver.execute(Array[String](), {() => dut}) match {\n",
    "    case s:chisel3.ChiselExecutionSuccess => s.firrtlResultOption match {\n",
    "      case Some(f:FirrtlExecutionSuccess) => f.emitted\n",
    "    }\n",
    "  }\n",
    "}\n",
    "\n",
    "// Convenience function to invoke Chisel and grab emitted FIRRTL.\n",
    "def getFirrtl(dut: => chisel3.core.UserModule): String = {\n",
    "  return chisel3.Driver.emit({() => dut})\n",
    "}\n",
    "\n",
    "def compileFIRRTL(\n",
    "    inputFirrtl: String,\n",
    "    compiler: firrtl.Compiler,\n",
    "    customTransforms: Seq[firrtl.Transform] = Seq.empty,\n",
    "    infoMode: firrtl.Parser.InfoMode = firrtl.Parser.IgnoreInfo,\n",
    "    annotations: firrtl.AnnotationSeq = firrtl.AnnotationSeq(Seq.empty)\n",
    "): String = {\n",
    "  import firrtl.{Compiler, AnnotationSeq, CircuitState, ChirrtlForm, FIRRTLException}\n",
    "  import firrtl.Parser._\n",
    "  import scala.io.Source\n",
    "  import scala.util.control.ControlThrowable\n",
    "  import firrtl.passes._\n",
    "  val outputBuffer = new java.io.CharArrayWriter\n",
    "  try {\n",
    "      //val parsedInput = firrtl.Parser.parse(Source.fromFile(input).getLines(), infoMode)\n",
    "      val parsedInput = firrtl.Parser.parse(inputFirrtl.split(\"\\n\").toIterator, infoMode)\n",
    "      compiler.compile(\n",
    "         CircuitState(parsedInput, ChirrtlForm, annotations),\n",
    "         outputBuffer,\n",
    "         customTransforms)\n",
    "  }\n",
    "\n",
    "  catch {\n",
    "    // Rethrow the exceptions which are expected or due to the runtime environment (out of memory, stack overflow)\n",
    "    case p: ControlThrowable => throw p\n",
    "    case p: PassException  => throw p\n",
    "    case p: FIRRTLException => throw p\n",
    "     // Treat remaining exceptions as internal errors.\n",
    "       case e: Exception => firrtl.Utils.throwInternalError(exception = Some(e))\n",
    "  }\n",
    "\n",
    "  val outputString = outputBuffer.toString\n",
    "  outputString\n",
    "}\n",
    "\n",
    "def stringifyAST(firrtlAST: firrtl.ir.Circuit): String = {\n",
    "  var ntabs = 0\n",
    "  val buf = new StringBuilder\n",
    "  val string = firrtlAST.toString\n",
    "  string.zipWithIndex.foreach { case (c, idx) =>\n",
    "    c match {\n",
    "      case ' ' =>\n",
    "      case '(' =>\n",
    "        ntabs += 1\n",
    "        buf ++= \"(\\n\" + \"| \" * ntabs\n",
    "      case ')' =>\n",
    "        ntabs -= 1\n",
    "        buf ++= \"\\n\" + \"| \" * ntabs + \")\"\n",
    "      case ','=> buf ++= \",\\n\" + \"| \" * ntabs\n",
    "      case  c if idx > 0 && string(idx-1)==')' =>\n",
    "        buf ++= \"\\n\" + \"| \" * ntabs + c\n",
    "      case c => buf += c\n",
    "    }\n",
    "  }\n",
    "  buf.toString\n",
    "}   "
   ]
  },
  {
   "cell_type": "markdown",
   "metadata": {},
   "source": [
    "# Your First Module"
   ]
  },
  {
   "cell_type": "code",
   "execution_count": null,
   "metadata": {},
   "outputs": [],
   "source": [
    "class PassThrough extends Module{\n",
    "  val io = IO(new Bundle{\n",
    "    val in = Input(UInt(8.W))\n",
    "    val out = Output(UInt(8.W))\n",
    "  })\n",
    "  io.in := io.out\n",
    "} \n",
    "println(getVerilog(new Passthrough))"
   ]
  }
 ],
 "metadata": {
  "kernelspec": {
   "display_name": "Scala",
   "language": "scala",
   "name": "scala"
  },
  "language_info": {
   "codemirror_mode": "text/x-scala",
   "file_extension": ".scala",
   "mimetype": "text/x-scala",
   "name": "scala",
   "nbconvert_exporter": "script",
   "version": "2.12.8"
  },
  "toc": {
   "base_numbering": 1,
   "nav_menu": {},
   "number_sections": true,
   "sideBar": true,
   "skip_h1_title": false,
   "title_cell": "Table of Contents",
   "title_sidebar": "Contents",
   "toc_cell": false,
   "toc_position": {},
   "toc_section_display": true,
   "toc_window_display": false
  }
 },
 "nbformat": 4,
 "nbformat_minor": 2
}
