{
 "cells": [
  {
   "attachments": {
    "image.png": {
     "image/png": "[encoded data removed]"
    }
   },
   "cell_type": "markdown",
   "metadata": {},
   "source": [
    "![image.png](attachment:image.png)"
   ]
  },
  {
   "cell_type": "markdown",
   "metadata": {},
   "source": [
    "## Breeze Runing enviroments\n",
    "\n",
    "Breeze is a numerical processing library for Scala. http://www.scalanlp.org"
   ]
  },
  {
   "cell_type": "code",
   "execution_count": null,
   "metadata": {},
   "outputs": [],
   "source": [
    "import  $ivy.`org.scalanlp::breeze:1.0`"
   ]
  },
  {
   "cell_type": "markdown",
   "metadata": {},
   "source": [
    "## breeze.linalg._"
   ]
  },
  {
   "cell_type": "code",
   "execution_count": null,
   "metadata": {},
   "outputs": [],
   "source": [
    "import breeze.linalg._  "
   ]
  },
  {
   "cell_type": "code",
   "execution_count": null,
   "metadata": {},
   "outputs": [],
   "source": [
    "val a = DenseVector(List(1,2,3,4,5,6))\n",
    "val b = DenseVector(List(0.1,0.2,0.3,0.4,0.5,0.6))"
   ]
  },
  {
   "cell_type": "markdown",
   "metadata": {},
   "source": [
    "## breeze.numerics._"
   ]
  },
  {
   "cell_type": "code",
   "execution_count": null,
   "metadata": {},
   "outputs": [],
   "source": [
    "import breeze.numerics._"
   ]
  },
  {
   "cell_type": "markdown",
   "metadata": {},
   "source": [
    "## breeze.math._"
   ]
  },
  {
   "cell_type": "code",
   "execution_count": null,
   "metadata": {},
   "outputs": [],
   "source": [
    "import breeze.math._"
   ]
  },
  {
   "cell_type": "code",
   "execution_count": null,
   "metadata": {},
   "outputs": [],
   "source": [
    "val a = 2 + 3*i"
   ]
  },
  {
   "attachments": {
    "image.png": {
     "image/png": "[encoded data removed]"
    }
   },
   "cell_type": "markdown",
   "metadata": {},
   "source": [
    "e^{\\frac{\\pi}{4}j} ![image.png](attachment:image.png)"
   ]
  },
  {
   "cell_type": "code",
   "execution_count": null,
   "metadata": {},
   "outputs": [],
   "source": [
    "val b = (scala.math.Pi*i/4).exp "
   ]
  },
  {
   "cell_type": "markdown",
   "metadata": {},
   "source": [
    "## FixPoint"
   ]
  },
  {
   "cell_type": "code",
   "execution_count": null,
   "metadata": {},
   "outputs": [],
   "source": [
    "case class QFormat(width: Int, fraction: Int, signed: Boolean) \n",
    "object FixTo{\n",
    "  def apply(x: Int, q: QFormat): Double = x + 0.00 \n",
    "  def apply(x: List[Int], q: QFormat): List[Double] = x.map(_+0.00)\n",
    "  def apply(x: List[Long], q: QFormat): List[Double] = x.map(_+0.00)\n",
    "}"
   ]
  },
  {
   "cell_type": "code",
   "execution_count": null,
   "metadata": {},
   "outputs": [],
   "source": [
    "FixTo(2,QFormat(16,2,false))\n",
    "FixTo(List(3,2,1,0),QFormat(16,2,false))"
   ]
  },
  {
   "cell_type": "code",
   "execution_count": null,
   "metadata": {},
   "outputs": [],
   "source": [
    "object MyTransform{\n",
    "  def apply(x: Int ): Double              = x + 0.00 \n",
    "  def apply(x: List[Int] ): List[Double]  = x.map(_+0.00)\n",
    "  def apply(x: List[Double] ): List[Double] = x.map(_+0.00)\n",
    "}"
   ]
  },
  {
   "cell_type": "markdown",
   "metadata": {},
   "source": [
    "## FFT"
   ]
  },
  {
   "cell_type": "code",
   "execution_count": null,
   "metadata": {},
   "outputs": [],
   "source": [
    "import scala.math._\n",
    "\n",
    "case class Complex(re: Double, im: Double) {\n",
    "    def +(x: Complex): Complex = Complex(re + x.re, im + x.im)\n",
    "    def -(x: Complex): Complex = Complex(re - x.re, im - x.im)\n",
    "    def *(x: Double):  Complex = Complex(re * x, im * x)\n",
    "    def *(x: Complex): Complex = Complex(re * x.re - im * x.im, re * x.im + im * x.re)\n",
    "    def /(x: Double):  Complex = Complex(re / x, im / x)\n",
    " \n",
    "    override def toString(): String = {\n",
    "        val a = \"%1.3f\".format(re)\n",
    "        val b = \"%1.3f\".format(abs(im))\n",
    "        (a,b) match {\n",
    "            case (_, \"0.000\") => a\n",
    "            case (\"0.000\", _) => b + \"j\"\n",
    "            case (_, _) if im > 0 => a + \" + \" + b + \"j\"\n",
    "            case (_, _) => a + \" - \" + b + \"j\"\n",
    "        }\n",
    "    }\n",
    "}\n",
    "\n",
    "def Myexp(c: Complex) : Complex = {\n",
    "    val r = (cosh(c.re) + sinh(c.re))\n",
    "    Complex(cos(c.im), sin(c.im)) * r\n",
    "}"
   ]
  },
  {
   "cell_type": "code",
   "execution_count": null,
   "metadata": {},
   "outputs": [],
   "source": [
    "val a = Complex(2,-3)\n",
    "println(a)\n",
    "a*(Pi*7/3)\n",
    "Myexp(Complex(0.0,Pi/2))"
   ]
  },
  {
   "cell_type": "code",
   "execution_count": null,
   "metadata": {},
   "outputs": [],
   "source": [
    "def _fft(cSeq: Seq[Complex], direction: Complex, scalar: Int): Seq[Complex] = {\n",
    "    if (cSeq.length == 1) {\n",
    "        return cSeq\n",
    "    }\n",
    "    val n = cSeq.length\n",
    "    assume(n % 2 == 0, \"The Cooley-Tukey FFT algorithm only works when the length of the input is even.\")\n",
    " \n",
    "    val evenOddPairs = cSeq.grouped(2).toSeq\n",
    "    val evens = _fft(evenOddPairs map (_(0)), direction, scalar)\n",
    "    val odds  = _fft(evenOddPairs map (_(1)), direction, scalar)\n",
    " \n",
    "    def leftRightPair(k: Int): Pair[Complex, Complex] = {\n",
    "        val base = evens(k) / scalar\n",
    "        val offset = e(direction * (Pi * k / n)) * odds(k) / scalar\n",
    "        (base + offset, base - offset)\n",
    "    }\n",
    " \n",
    "    val pairs = (0 until n/2) map leftRightPair\n",
    "    val left  = pairs map (_._1)\n",
    "    val right = pairs map (_._2)\n",
    "    left ++ right\n",
    "}\n",
    " \n",
    "def  fft(cSeq: Seq[Complex]): Seq[Complex] = _fft(cSeq, Complex(0,  2), 1)\n",
    "def rfft(cSeq: Seq[Complex]): Seq[Complex] = _fft(cSeq, Complex(0, -2), 2)"
   ]
  },
  {
   "cell_type": "code",
   "execution_count": null,
   "metadata": {},
   "outputs": [],
   "source": [
    "val data = Seq(Complex(1,0), Complex(1,0), Complex(1,0), Complex(1,0), \n",
    "               Complex(0,0), Complex(0,2), Complex(0,0), Complex(0,0))\n",
    " \n",
    "println(fft(data))\n",
    "println(rfft(fft(data)))"
   ]
  },
  {
   "cell_type": "code",
   "execution_count": null,
   "metadata": {},
   "outputs": [],
   "source": [
    "2 toDouble"
   ]
  },
  {
   "cell_type": "markdown",
   "metadata": {},
   "source": [
    "## Creat Your owner Complex\n",
    "```scala\n",
    "2 + 3*j     //Complex(2.0, 3.0)\n",
    "3.001 - 7*j //Complex(3.001, -7.0)\n",
    "```"
   ]
  },
  {
   "cell_type": "code",
   "execution_count": null,
   "metadata": {},
   "outputs": [],
   "source": [
    "trait jbase\n",
    "object j extends jbase\n",
    "case class image(value: Double)\n",
    "implicit class compleInt(x: Int) {\n",
    "    def *(y: jbase) = image(x toDouble)\n",
    "}\n",
    "implicit class compleDouble(x: Double) {\n",
    "    def *(y: jbase) = image(x)\n",
    "}\n",
    "implicit class DoubleExpand(x: Double) {\n",
    "    def +(that: image) = Complex(x,that.value)\n",
    "    def -(that: image) = Complex(x,-that.value)\n",
    "}\n",
    "implicit class intExpand(x: Int) {\n",
    "    def +(that: image) = Complex(x toDouble,that.value)\n",
    "    def -(that: image) = Complex(x toDouble,-that.value)\n",
    "}"
   ]
  },
  {
   "cell_type": "code",
   "execution_count": null,
   "metadata": {},
   "outputs": [],
   "source": [
    "val a = 2 + 3.2*j \n",
    "val b = 3.001 -7*j\n",
    "val c = a * b\n",
    "println(c)"
   ]
  },
  {
   "cell_type": "code",
   "execution_count": null,
   "metadata": {},
   "outputs": [],
   "source": [
    "val data = Seq(3+2*j,5+1*j,13.01-3.2*j,4+1*j,0-3*j,1+1*j,2-3*j,4.111-2*j)\n",
    "println(fft(data))\n",
    "println(rfft(fft(data)))"
   ]
  },
  {
   "cell_type": "code",
   "execution_count": null,
   "metadata": {},
   "outputs": [],
   "source": [
    "import scala.math._\n",
    "cosh(1)"
   ]
  },
  {
   "cell_type": "code",
   "execution_count": null,
   "metadata": {},
   "outputs": [],
   "source": [
    "(0 to 15).map(x=>atan(pow(2,-x))).map(360*_/(2*Pi)).zipWithIndex"
   ]
  },
  {
   "cell_type": "code",
   "execution_count": null,
   "metadata": {},
   "outputs": [],
   "source": [
    "val a = (0 to 20) toList\n",
    "val c = List.tabulate(4,5)((x,y)=>a(x+4*y))"
   ]
  },
  {
   "cell_type": "code",
   "execution_count": null,
   "metadata": {},
   "outputs": [],
   "source": [
    "def log10(x: Double) = scala.math.log(x)/scala.math.log(10)"
   ]
  },
  {
   "cell_type": "code",
   "execution_count": null,
   "metadata": {},
   "outputs": [],
   "source": [
    "val snr = -3\n",
    "val gaindB = 10*log10(1 + scala.math.pow(10, -snr/10.0))"
   ]
  },
  {
   "cell_type": "code",
   "execution_count": null,
   "metadata": {},
   "outputs": [],
   "source": []
  }
 ],
 "metadata": {
  "kernelspec": {
   "display_name": "Scala",
   "language": "scala",
   "name": "scala"
  },
  "language_info": {
   "codemirror_mode": "text/x-scala",
   "file_extension": ".scala",
   "mimetype": "text/x-scala",
   "name": "scala",
   "nbconvert_exporter": "script",
   "version": "2.12.8"
  },
  "toc": {
   "base_numbering": 1,
   "nav_menu": {},
   "number_sections": true,
   "sideBar": true,
   "skip_h1_title": false,
   "title_cell": "Table of Contents",
   "title_sidebar": "Contents",
   "toc_cell": false,
   "toc_position": {},
   "toc_section_display": true,
   "toc_window_display": false
  }
 },
 "nbformat": 4,
 "nbformat_minor": 2
}
